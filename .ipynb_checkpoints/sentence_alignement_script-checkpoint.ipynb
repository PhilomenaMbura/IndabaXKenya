{
 "cells": [
  {
   "cell_type": "code",
   "execution_count": 1,
   "metadata": {},
   "outputs": [],
   "source": [
    "import string"
   ]
  },
  {
   "cell_type": "code",
   "execution_count": 3,
   "metadata": {},
   "outputs": [],
   "source": [
    "# read in file\n",
    "swa = open(\"kutoka.txt\", \"r\").read() \n",
    "eng = open(\"exodus.txt\", \"r\").read() "
   ]
  },
  {
   "cell_type": "code",
   "execution_count": 58,
   "metadata": {},
   "outputs": [],
   "source": [
    "# remove any empty sensences in the list\n",
    "new_new_swa = list(filter(None, new_new_swa))"
   ]
  },
  {
   "cell_type": "code",
   "execution_count": 59,
   "metadata": {},
   "outputs": [],
   "source": [
    "f = open(\"eng_sentences.txt\", \"w\")\n",
    "for line in new_new_swa: \n",
    "  # strip sentences of space either at the beginning or end\n",
    "  f.write(line.lstrip())\n",
    "  # write line to output file  \n",
    "  f.write(\"\\n\")\n",
    "f.close()"
   ]
  },
  {
   "cell_type": "markdown",
   "metadata": {},
   "source": [
    "Sentence Alignment full function below:"
   ]
  },
  {
   "cell_type": "code",
   "execution_count": 113,
   "metadata": {},
   "outputs": [],
   "source": [
    "def sentence_alignment(file):\n",
    "    # remove space characters from text \n",
    "    text = file.replace(u'\\xa0', u'')\n",
    "    # remove digits from the texts\n",
    "    text = ''.join([i for i in text if not i.isdigit()])\n",
    "    # split at newline character\n",
    "    text = text.split('\\n')\n",
    "    # split at full stops, for sentence alignment\n",
    "    new_text = []\n",
    "    for line in text: \n",
    "        new_text.append(line.split('.'))\n",
    "    # flatten the nested sublists that result from the previous step\n",
    "    flat_text = [item for sublist in new_text for item in sublist]\n",
    "    flat_text = list(filter(None, flat_text))\n",
    "    # [''.join(c for c in s if c not in string.punctuation) for s in flat_list]\n",
    "    # remove punctuation using this code\n",
    "    new_text2 = []\n",
    "    import re\n",
    "    for line in flat_text:\n",
    "        new_text2.append(re.sub(r'[^\\w\\s]','',line.lower()))\n",
    "    # remove any empty sensences in the list\n",
    "    new_text2 = list(filter(None, new_text2))\n",
    "    f = open(\"data/swahili_aligned_5.txt\", \"w\")\n",
    "    for line in new_text2: \n",
    "        # strip sentences of space either at the beginning or end\n",
    "        f.write(line.lstrip())\n",
    "        # write line to output file  \n",
    "        f.write(\"\\n\")\n",
    "    f.close()"
   ]
  },
  {
   "cell_type": "code",
   "execution_count": 114,
   "metadata": {},
   "outputs": [],
   "source": [
    "swa = open(\"data/swahili_5.txt\", \"r\").read() \n",
    "eng = open(\"data/english_5.txt\", \"r\").read() "
   ]
  },
  {
   "cell_type": "code",
   "execution_count": 115,
   "metadata": {},
   "outputs": [],
   "source": [
    "sentence_alignment(swa)"
   ]
  },
  {
   "cell_type": "code",
   "execution_count": null,
   "metadata": {},
   "outputs": [],
   "source": []
  }
 ],
 "metadata": {
  "kernelspec": {
   "display_name": "Python 3",
   "language": "python",
   "name": "python3"
  },
  "language_info": {
   "codemirror_mode": {
    "name": "ipython",
    "version": 3
   },
   "file_extension": ".py",
   "mimetype": "text/x-python",
   "name": "python",
   "nbconvert_exporter": "python",
   "pygments_lexer": "ipython3",
   "version": "3.6.7"
  }
 },
 "nbformat": 4,
 "nbformat_minor": 2
}
